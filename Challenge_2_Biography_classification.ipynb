{
  "nbformat": 4,
  "nbformat_minor": 0,
  "metadata": {
    "colab": {
      "name": "Challenge 2 - Biography classification.ipynb",
      "provenance": [],
      "include_colab_link": true
    },
    "kernelspec": {
      "name": "python3",
      "display_name": "Python 3"
    }
  },
  "cells": [
    {
      "cell_type": "markdown",
      "metadata": {
        "id": "view-in-github",
        "colab_type": "text"
      },
      "source": [
        "<a href=\"https://colab.research.google.com/github/avi13s/AI_n_LAW_2/blob/master/Challenge_2_Biography_classification.ipynb\" target=\"_parent\"><img src=\"https://colab.research.google.com/assets/colab-badge.svg\" alt=\"Open In Colab\"/></a>"
      ]
    },
    {
      "cell_type": "markdown",
      "metadata": {
        "id": "G_sipS0FdLTI",
        "colab_type": "text"
      },
      "source": [
        "# Challenge 2 - Biography classification"
      ]
    },
    {
      "cell_type": "code",
      "metadata": {
        "id": "PkFKGiL4YdgW",
        "colab_type": "code",
        "colab": {}
      },
      "source": [
        "# Download the data (train and test speratly)\n",
        "!wget https://decoursedatastorage.blob.core.windows.net/data/home_train.csv -O home_train.csv\n",
        "!wget https://decoursedatastorage.blob.core.windows.net/data/home_test.csv -O home_test.csv"
      ],
      "execution_count": 0,
      "outputs": []
    },
    {
      "cell_type": "code",
      "metadata": {
        "id": "n8_QAkusaGEg",
        "colab_type": "code",
        "colab": {}
      },
      "source": [
        "# Add more packages if you need \n",
        "import pandas as pd\n",
        "import numpy as np\n",
        "import pickle\n",
        "from sklearn.metrics import classification_report\n",
        "from sklearn import metrics\n",
        "from sklearn.naive_bayes import MultinomialNB\n",
        "from sklearn.feature_extraction.text import TfidfTransformer\n",
        "from sklearn.feature_extraction.text import CountVectorizer\n"
      ],
      "execution_count": 0,
      "outputs": []
    },
    {
      "cell_type": "code",
      "metadata": {
        "id": "hhVcN8V5cA8_",
        "colab_type": "code",
        "colab": {}
      },
      "source": [
        "# Load the data to data frame\n",
        "train = pd.read_csv('home_train.csv') \n",
        "test = pd.read_csv('home_test.csv')"
      ],
      "execution_count": 0,
      "outputs": []
    },
    {
      "cell_type": "code",
      "metadata": {
        "id": "pMDlLds9cTW9",
        "colab_type": "code",
        "colab": {
          "base_uri": "https://localhost:8080/",
          "height": 204
        },
        "outputId": "53b7bc26-49e6-41b7-e5a7-3152eaeefce8"
      },
      "source": [
        "# DF structure\n",
        "train.head()"
      ],
      "execution_count": 4,
      "outputs": [
        {
          "output_type": "execute_result",
          "data": {
            "text/html": [
              "<div>\n",
              "<style scoped>\n",
              "    .dataframe tbody tr th:only-of-type {\n",
              "        vertical-align: middle;\n",
              "    }\n",
              "\n",
              "    .dataframe tbody tr th {\n",
              "        vertical-align: top;\n",
              "    }\n",
              "\n",
              "    .dataframe thead th {\n",
              "        text-align: right;\n",
              "    }\n",
              "</style>\n",
              "<table border=\"1\" class=\"dataframe\">\n",
              "  <thead>\n",
              "    <tr style=\"text-align: right;\">\n",
              "      <th></th>\n",
              "      <th>bio</th>\n",
              "      <th>occupation</th>\n",
              "    </tr>\n",
              "  </thead>\n",
              "  <tbody>\n",
              "    <tr>\n",
              "      <th>0</th>\n",
              "      <td>His research and teaching focus on security s...</td>\n",
              "      <td>professor</td>\n",
              "    </tr>\n",
              "    <tr>\n",
              "      <th>1</th>\n",
              "      <td>He is currently associated with Shri Datta Ho...</td>\n",
              "      <td>dentist</td>\n",
              "    </tr>\n",
              "    <tr>\n",
              "      <th>2</th>\n",
              "      <td>Dr. Swarthout is an analytical environmental ...</td>\n",
              "      <td>professor</td>\n",
              "    </tr>\n",
              "    <tr>\n",
              "      <th>3</th>\n",
              "      <td>His work has appeared in major U.S. and Europ...</td>\n",
              "      <td>photographer</td>\n",
              "    </tr>\n",
              "    <tr>\n",
              "      <th>4</th>\n",
              "      <td>He was born in the year 1977 in Rajshahi, hea...</td>\n",
              "      <td>photographer</td>\n",
              "    </tr>\n",
              "  </tbody>\n",
              "</table>\n",
              "</div>"
            ],
            "text/plain": [
              "                                                 bio    occupation\n",
              "0   His research and teaching focus on security s...     professor\n",
              "1   He is currently associated with Shri Datta Ho...       dentist\n",
              "2   Dr. Swarthout is an analytical environmental ...     professor\n",
              "3   His work has appeared in major U.S. and Europ...  photographer\n",
              "4   He was born in the year 1977 in Rajshahi, hea...  photographer"
            ]
          },
          "metadata": {
            "tags": []
          },
          "execution_count": 4
        }
      ]
    },
    {
      "cell_type": "code",
      "metadata": {
        "id": "KM4lRnRUfWJ3",
        "colab_type": "code",
        "colab": {
          "base_uri": "https://localhost:8080/",
          "height": 71
        },
        "outputId": "070fc5dd-b92a-4b73-aac5-fba5d03bb940"
      },
      "source": [
        "#Example of BIO\n",
        "print( train.at[0,'bio'])\n",
        "#Example of occupation\n",
        "print( train.at[0,'occupation'])"
      ],
      "execution_count": 5,
      "outputs": [
        {
          "output_type": "stream",
          "text": [
            " His research and teaching focus on security studies, international relations theory, international history and politics, and United States foreign policy. Taliaferro is the author of Balancing Risks: Great Power Intervention in the Periphery (Cornell University Press, 2004), which won the American Political Science Association’s Robert L. Jervis and Paul W. Schroeder Award for the Best Book in International History and Politics. His articles have appeared in International Security, Security Studies, and Political Psychology and several edited volumes. He is co-editor, along with Steven E. Lobell and Norrin P. Ripsman, of Neoclassical Realism, the State, and Foreign Policy (Cambridge University Press, 2009) and of The Challenge of Grand Strategy: The Great Powers and the Broken Balance between the World Wars (Cambridge University Press, 2012).\n",
            "professor\n"
          ],
          "name": "stdout"
        }
      ]
    },
    {
      "cell_type": "markdown",
      "metadata": {
        "id": "1_jn88P8hQbz",
        "colab_type": "text"
      },
      "source": [
        "Preprocess and training:"
      ]
    },
    {
      "cell_type": "code",
      "metadata": {
        "id": "Cjk1UUMoSTsI",
        "colab_type": "code",
        "colab": {}
      },
      "source": [
        "cv = CountVectorizer()\n",
        "train_bow = cv.fit_transform(train['bio'])\n",
        "tfidf_transformer = TfidfTransformer().fit(X)\n",
        "X = tfidf_transformer.transform(X)\n",
        "y = train['occupation']\n",
        "clf = MultinomialNB().fit(X,y)"
      ],
      "execution_count": 0,
      "outputs": []
    },
    {
      "cell_type": "markdown",
      "metadata": {
        "id": "kjAz9ep-hqvs",
        "colab_type": "text"
      },
      "source": [
        "Testing:"
      ]
    },
    {
      "cell_type": "code",
      "metadata": {
        "id": "t2VZ-CU6WuS0",
        "colab_type": "code",
        "colab": {
          "base_uri": "https://localhost:8080/",
          "height": 34
        },
        "outputId": "86330a47-b5de-4fd6-ab48-fd00ecae8a89"
      },
      "source": [
        "test_bow = cv.transform(test['bio'])\n",
        "test_tf_id = tfidf_transformer.transform(test_bow)\n",
        "predictions = clf.predict(test_tf_id)\n",
        "sklearn.metrics.accuracy_score(test['occupation'], predictions)"
      ],
      "execution_count": 58,
      "outputs": [
        {
          "output_type": "execute_result",
          "data": {
            "text/plain": [
              "0.552507166388568"
            ]
          },
          "metadata": {
            "tags": []
          },
          "execution_count": 58
        }
      ]
    },
    {
      "cell_type": "code",
      "metadata": {
        "id": "X6pFjo5vc6J-",
        "colab_type": "code",
        "colab": {}
      },
      "source": [
        "# Save - (for using in the lesson)\n",
        "pickle.dump(cv, open('count_vect.pkl', 'wb')) # count_vect is the CountVectorizer object\n",
        "pickle.dump(clf, open('model.pkl', 'wb')) #clf is the classifier that you trained"
      ],
      "execution_count": 0,
      "outputs": []
    }
  ]
}