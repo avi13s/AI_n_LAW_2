{
  "nbformat": 4,
  "nbformat_minor": 0,
  "metadata": {
    "colab": {
      "name": "Challenge 2 - Biography classification.ipynb",
      "provenance": [],
      "toc_visible": true,
      "include_colab_link": true
    },
    "kernelspec": {
      "name": "python3",
      "display_name": "Python 3"
    }
  },
  "cells": [
    {
      "cell_type": "markdown",
      "metadata": {
        "id": "view-in-github",
        "colab_type": "text"
      },
      "source": [
        "<a href=\"https://colab.research.google.com/github/avi13s/AI_n_LAW_2/blob/master/Challenge_2_Biography_classification.ipynb\" target=\"_parent\"><img src=\"https://colab.research.google.com/assets/colab-badge.svg\" alt=\"Open In Colab\"/></a>"
      ]
    },
    {
      "cell_type": "markdown",
      "metadata": {
        "id": "G_sipS0FdLTI",
        "colab_type": "text"
      },
      "source": [
        "# Challenge 2 - Biography classification"
      ]
    },
    {
      "cell_type": "code",
      "metadata": {
        "id": "KEu7UyKgtL6V",
        "colab_type": "code",
        "colab": {
          "base_uri": "https://localhost:8080/",
          "height": 122
        },
        "outputId": "ef86c3fb-3416-4c13-9964-dba28eca6a3e"
      },
      "source": [
        "from google.colab import drive\n",
        "drive.mount('/content/drive')"
      ],
      "execution_count": 1,
      "outputs": [
        {
          "output_type": "stream",
          "text": [
            "Go to this URL in a browser: https://accounts.google.com/o/oauth2/auth?client_id=947318989803-6bn6qk8qdgf4n4g3pfee6491hc0brc4i.apps.googleusercontent.com&redirect_uri=urn%3aietf%3awg%3aoauth%3a2.0%3aoob&response_type=code&scope=email%20https%3a%2f%2fwww.googleapis.com%2fauth%2fdocs.test%20https%3a%2f%2fwww.googleapis.com%2fauth%2fdrive%20https%3a%2f%2fwww.googleapis.com%2fauth%2fdrive.photos.readonly%20https%3a%2f%2fwww.googleapis.com%2fauth%2fpeopleapi.readonly\n",
            "\n",
            "Enter your authorization code:\n",
            "··········\n",
            "Mounted at /content/drive\n"
          ],
          "name": "stdout"
        }
      ]
    },
    {
      "cell_type": "code",
      "metadata": {
        "id": "PkFKGiL4YdgW",
        "colab_type": "code",
        "colab": {}
      },
      "source": [
        "# Download the data (train and test speratly)\n",
        "!wget https://decoursedatastorage.blob.core.windows.net/data/home_train.csv -O home_train.csv\n",
        "!wget https://decoursedatastorage.blob.core.windows.net/data/home_test.csv -O home_test.csv"
      ],
      "execution_count": 0,
      "outputs": []
    },
    {
      "cell_type": "code",
      "metadata": {
        "id": "n8_QAkusaGEg",
        "colab_type": "code",
        "colab": {}
      },
      "source": [
        "# Add more packages if you need \n",
        "import pandas as pd\n",
        "import numpy as np\n",
        "import pickle\n",
        "from sklearn.metrics import classification_report\n",
        "from sklearn import metrics\n",
        "from sklearn.naive_bayes import MultinomialNB\n",
        "from sklearn.feature_extraction.text import TfidfTransformer\n",
        "from sklearn.feature_extraction.text import CountVectorizer\n",
        "from sklearn.pipeline import Pipeline"
      ],
      "execution_count": 0,
      "outputs": []
    },
    {
      "cell_type": "code",
      "metadata": {
        "id": "hhVcN8V5cA8_",
        "colab_type": "code",
        "colab": {}
      },
      "source": [
        "# Load the data to data frame\n",
        "train = pd.read_csv('home_train.csv') \n",
        "test = pd.read_csv('home_test.csv')"
      ],
      "execution_count": 0,
      "outputs": []
    },
    {
      "cell_type": "code",
      "metadata": {
        "id": "pMDlLds9cTW9",
        "colab_type": "code",
        "outputId": "07132a98-c72d-40e7-876e-4a79812e2d42",
        "colab": {
          "base_uri": "https://localhost:8080/",
          "height": 204
        }
      },
      "source": [
        "# DF structure\n",
        "train.head()"
      ],
      "execution_count": 0,
      "outputs": [
        {
          "output_type": "execute_result",
          "data": {
            "text/html": [
              "<div>\n",
              "<style scoped>\n",
              "    .dataframe tbody tr th:only-of-type {\n",
              "        vertical-align: middle;\n",
              "    }\n",
              "\n",
              "    .dataframe tbody tr th {\n",
              "        vertical-align: top;\n",
              "    }\n",
              "\n",
              "    .dataframe thead th {\n",
              "        text-align: right;\n",
              "    }\n",
              "</style>\n",
              "<table border=\"1\" class=\"dataframe\">\n",
              "  <thead>\n",
              "    <tr style=\"text-align: right;\">\n",
              "      <th></th>\n",
              "      <th>bio</th>\n",
              "      <th>occupation</th>\n",
              "    </tr>\n",
              "  </thead>\n",
              "  <tbody>\n",
              "    <tr>\n",
              "      <th>0</th>\n",
              "      <td>His research and teaching focus on security s...</td>\n",
              "      <td>professor</td>\n",
              "    </tr>\n",
              "    <tr>\n",
              "      <th>1</th>\n",
              "      <td>He is currently associated with Shri Datta Ho...</td>\n",
              "      <td>dentist</td>\n",
              "    </tr>\n",
              "    <tr>\n",
              "      <th>2</th>\n",
              "      <td>Dr. Swarthout is an analytical environmental ...</td>\n",
              "      <td>professor</td>\n",
              "    </tr>\n",
              "    <tr>\n",
              "      <th>3</th>\n",
              "      <td>His work has appeared in major U.S. and Europ...</td>\n",
              "      <td>photographer</td>\n",
              "    </tr>\n",
              "    <tr>\n",
              "      <th>4</th>\n",
              "      <td>He was born in the year 1977 in Rajshahi, hea...</td>\n",
              "      <td>photographer</td>\n",
              "    </tr>\n",
              "  </tbody>\n",
              "</table>\n",
              "</div>"
            ],
            "text/plain": [
              "                                                 bio    occupation\n",
              "0   His research and teaching focus on security s...     professor\n",
              "1   He is currently associated with Shri Datta Ho...       dentist\n",
              "2   Dr. Swarthout is an analytical environmental ...     professor\n",
              "3   His work has appeared in major U.S. and Europ...  photographer\n",
              "4   He was born in the year 1977 in Rajshahi, hea...  photographer"
            ]
          },
          "metadata": {
            "tags": []
          },
          "execution_count": 4
        }
      ]
    },
    {
      "cell_type": "code",
      "metadata": {
        "id": "KM4lRnRUfWJ3",
        "colab_type": "code",
        "outputId": "4fe5eafe-4283-4835-8b04-0bede9c8e0f0",
        "colab": {
          "base_uri": "https://localhost:8080/",
          "height": 71
        }
      },
      "source": [
        "#Example of BIO\n",
        "print( train.at[0,'bio'])\n",
        "#Example of occupation\n",
        "print( train.at[0,'occupation'])"
      ],
      "execution_count": 0,
      "outputs": [
        {
          "output_type": "stream",
          "text": [
            " His research and teaching focus on security studies, international relations theory, international history and politics, and United States foreign policy. Taliaferro is the author of Balancing Risks: Great Power Intervention in the Periphery (Cornell University Press, 2004), which won the American Political Science Association’s Robert L. Jervis and Paul W. Schroeder Award for the Best Book in International History and Politics. His articles have appeared in International Security, Security Studies, and Political Psychology and several edited volumes. He is co-editor, along with Steven E. Lobell and Norrin P. Ripsman, of Neoclassical Realism, the State, and Foreign Policy (Cambridge University Press, 2009) and of The Challenge of Grand Strategy: The Great Powers and the Broken Balance between the World Wars (Cambridge University Press, 2012).\n",
            "professor\n"
          ],
          "name": "stdout"
        }
      ]
    },
    {
      "cell_type": "markdown",
      "metadata": {
        "id": "1_jn88P8hQbz",
        "colab_type": "text"
      },
      "source": [
        "Preprocess and training:"
      ]
    },
    {
      "cell_type": "code",
      "metadata": {
        "id": "JR2FPbzVm971",
        "colab_type": "code",
        "colab": {}
      },
      "source": [
        "pipe = Pipeline([('bow',CountVectorizer()),\n",
        "                    ('tfidf',TfidfTransformer())])\n",
        "X = pipe.fit_transform(train['bio'])\n",
        "y = train['occupation']\n",
        "clf = MultinomialNB().fit(X,y)"
      ],
      "execution_count": 0,
      "outputs": []
    },
    {
      "cell_type": "markdown",
      "metadata": {
        "id": "kjAz9ep-hqvs",
        "colab_type": "text"
      },
      "source": [
        "Testing:"
      ]
    },
    {
      "cell_type": "code",
      "metadata": {
        "id": "YJ6Ki_02n8Bs",
        "colab_type": "code",
        "outputId": "4e82aad4-d7a6-46aa-d832-a6e1399b6070",
        "colab": {
          "base_uri": "https://localhost:8080/",
          "height": 34
        }
      },
      "source": [
        "test_tfidf = pipe.transform(test['bio'])\n",
        "predictions = clf.predict(test_tfidf)\n",
        "metrics.accuracy_score(test['occupation'], predictions)"
      ],
      "execution_count": 0,
      "outputs": [
        {
          "output_type": "execute_result",
          "data": {
            "text/plain": [
              "0.552507166388568"
            ]
          },
          "metadata": {
            "tags": []
          },
          "execution_count": 9
        }
      ]
    },
    {
      "cell_type": "code",
      "metadata": {
        "id": "X6pFjo5vc6J-",
        "colab_type": "code",
        "colab": {}
      },
      "source": [
        "# Save - (for using in the lesson)\n",
        "pickle.dump(pipe, open('count_vect.pkl', 'wb')) # count_vect is the CountVectorizer object\n",
        "pickle.dump(clf, open('model.pkl', 'wb')) #clf is the classifier that you trained"
      ],
      "execution_count": 0,
      "outputs": []
    },
    {
      "cell_type": "markdown",
      "metadata": {
        "id": "1qNBJ86_ti1j",
        "colab_type": "text"
      },
      "source": [
        "CONTINUTE FROM HERE WITHOUT TRAINING AGAIN:"
      ]
    },
    {
      "cell_type": "code",
      "metadata": {
        "id": "YMlVmDMVtmoa",
        "colab_type": "code",
        "colab": {}
      },
      "source": [
        "train = pd.read_csv('/content/drive/My Drive/AI_n_LAW2/home_train.csv') \n",
        "test = pd.read_csv('/content/drive/My Drive/AI_n_LAW2/home_test.csv')"
      ],
      "execution_count": 0,
      "outputs": []
    },
    {
      "cell_type": "code",
      "metadata": {
        "id": "ofaOgt4Nikba",
        "colab_type": "code",
        "colab": {}
      },
      "source": [
        "# Load\n",
        "cv1 = pickle.load(open('/content/drive/My Drive/AI_n_LAW2/count_vect.pkl','rb'))\n",
        "clf1 = pickle.load(open('/content/drive/My Drive/AI_n_LAW2/model.pkl','rb'))"
      ],
      "execution_count": 0,
      "outputs": []
    },
    {
      "cell_type": "code",
      "metadata": {
        "id": "LNFBHR6fi9V1",
        "colab_type": "code",
        "outputId": "6b3019f2-5c29-493a-d09b-005eff74440e",
        "colab": {
          "base_uri": "https://localhost:8080/",
          "height": 34
        }
      },
      "source": [
        "test_tf_idf = pipe.transform(test['bio'])\n",
        "predictions1 = clf.predict(test_tf_idf)\n",
        "metrics.accuracy_score(test['occupation'], predictions1)"
      ],
      "execution_count": 0,
      "outputs": [
        {
          "output_type": "execute_result",
          "data": {
            "text/plain": [
              "0.552507166388568"
            ]
          },
          "metadata": {
            "tags": []
          },
          "execution_count": 12
        }
      ]
    }
  ]
}