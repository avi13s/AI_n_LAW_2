{
  "nbformat": 4,
  "nbformat_minor": 0,
  "metadata": {
    "colab": {
      "name": "Copy of Challenge 2 - Biography classification.ipynb",
      "provenance": [],
      "toc_visible": true,
      "include_colab_link": true
    },
    "kernelspec": {
      "name": "python3",
      "display_name": "Python 3"
    }
  },
  "cells": [
    {
      "cell_type": "markdown",
      "metadata": {
        "id": "view-in-github",
        "colab_type": "text"
      },
      "source": [
        "<a href=\"https://colab.research.google.com/github/avi13s/AI_n_LAW_2/blob/master/Copy_of_Challenge_2_Biography_classification.ipynb\" target=\"_parent\"><img src=\"https://colab.research.google.com/assets/colab-badge.svg\" alt=\"Open In Colab\"/></a>"
      ]
    },
    {
      "cell_type": "markdown",
      "metadata": {
        "id": "G_sipS0FdLTI",
        "colab_type": "text"
      },
      "source": [
        "# Challenge 2 - Biography classification"
      ]
    },
    {
      "cell_type": "code",
      "metadata": {
        "id": "PkFKGiL4YdgW",
        "colab_type": "code",
        "outputId": "266e0931-1d09-4442-be83-d51089d31504",
        "colab": {
          "base_uri": "https://localhost:8080/",
          "height": 391
        }
      },
      "source": [
        "# Download the data (train and test speratly)\n",
        "!wget https://decoursedatastorage.blob.core.windows.net/data/home_train.csv -O home_train.csv\n",
        "!wget https://decoursedatastorage.blob.core.windows.net/data/home_test.csv -O home_test.csv"
      ],
      "execution_count": 1,
      "outputs": [
        {
          "output_type": "stream",
          "text": [
            "--2020-05-30 21:12:37--  https://decoursedatastorage.blob.core.windows.net/data/home_train.csv\n",
            "Resolving decoursedatastorage.blob.core.windows.net (decoursedatastorage.blob.core.windows.net)... 52.239.153.36\n",
            "Connecting to decoursedatastorage.blob.core.windows.net (decoursedatastorage.blob.core.windows.net)|52.239.153.36|:443... connected.\n",
            "HTTP request sent, awaiting response... 200 OK\n",
            "Length: 109574182 (104M) [application/vnd.ms-excel]\n",
            "Saving to: ‘home_train.csv’\n",
            "\n",
            "home_train.csv      100%[===================>] 104.50M  9.35MB/s    in 8.8s    \n",
            "\n",
            "2020-05-30 21:12:47 (11.9 MB/s) - ‘home_train.csv’ saved [109574182/109574182]\n",
            "\n",
            "--2020-05-30 21:12:48--  https://decoursedatastorage.blob.core.windows.net/data/home_test.csv\n",
            "Resolving decoursedatastorage.blob.core.windows.net (decoursedatastorage.blob.core.windows.net)... 52.239.153.36\n",
            "Connecting to decoursedatastorage.blob.core.windows.net (decoursedatastorage.blob.core.windows.net)|52.239.153.36|:443... connected.\n",
            "HTTP request sent, awaiting response... 200 OK\n",
            "Length: 36462098 (35M) [application/vnd.ms-excel]\n",
            "Saving to: ‘home_test.csv’\n",
            "\n",
            "home_test.csv       100%[===================>]  34.77M  11.5MB/s    in 3.0s    \n",
            "\n",
            "2020-05-30 21:12:52 (11.5 MB/s) - ‘home_test.csv’ saved [36462098/36462098]\n",
            "\n"
          ],
          "name": "stdout"
        }
      ]
    },
    {
      "cell_type": "code",
      "metadata": {
        "id": "n8_QAkusaGEg",
        "colab_type": "code",
        "colab": {}
      },
      "source": [
        "# Add more packages if you need \n",
        "import pandas as pd\n",
        "import numpy as np\n",
        "import pickle"
      ],
      "execution_count": 0,
      "outputs": []
    },
    {
      "cell_type": "code",
      "metadata": {
        "id": "hhVcN8V5cA8_",
        "colab_type": "code",
        "colab": {}
      },
      "source": [
        "# Load the data to data frame\n",
        "train = pd.read_csv('home_train.csv') \n",
        "test = pd.read_csv('home_test.csv')"
      ],
      "execution_count": 0,
      "outputs": []
    },
    {
      "cell_type": "code",
      "metadata": {
        "id": "pMDlLds9cTW9",
        "colab_type": "code",
        "outputId": "c84a4a7e-4988-4379-f84b-3974ed34394c",
        "colab": {
          "base_uri": "https://localhost:8080/",
          "height": 204
        }
      },
      "source": [
        "# DF structure\n",
        "train.head()"
      ],
      "execution_count": 4,
      "outputs": [
        {
          "output_type": "execute_result",
          "data": {
            "text/html": [
              "<div>\n",
              "<style scoped>\n",
              "    .dataframe tbody tr th:only-of-type {\n",
              "        vertical-align: middle;\n",
              "    }\n",
              "\n",
              "    .dataframe tbody tr th {\n",
              "        vertical-align: top;\n",
              "    }\n",
              "\n",
              "    .dataframe thead th {\n",
              "        text-align: right;\n",
              "    }\n",
              "</style>\n",
              "<table border=\"1\" class=\"dataframe\">\n",
              "  <thead>\n",
              "    <tr style=\"text-align: right;\">\n",
              "      <th></th>\n",
              "      <th>bio</th>\n",
              "      <th>occupation</th>\n",
              "    </tr>\n",
              "  </thead>\n",
              "  <tbody>\n",
              "    <tr>\n",
              "      <th>0</th>\n",
              "      <td>His research and teaching focus on security s...</td>\n",
              "      <td>professor</td>\n",
              "    </tr>\n",
              "    <tr>\n",
              "      <th>1</th>\n",
              "      <td>He is currently associated with Shri Datta Ho...</td>\n",
              "      <td>dentist</td>\n",
              "    </tr>\n",
              "    <tr>\n",
              "      <th>2</th>\n",
              "      <td>Dr. Swarthout is an analytical environmental ...</td>\n",
              "      <td>professor</td>\n",
              "    </tr>\n",
              "    <tr>\n",
              "      <th>3</th>\n",
              "      <td>His work has appeared in major U.S. and Europ...</td>\n",
              "      <td>photographer</td>\n",
              "    </tr>\n",
              "    <tr>\n",
              "      <th>4</th>\n",
              "      <td>He was born in the year 1977 in Rajshahi, hea...</td>\n",
              "      <td>photographer</td>\n",
              "    </tr>\n",
              "  </tbody>\n",
              "</table>\n",
              "</div>"
            ],
            "text/plain": [
              "                                                 bio    occupation\n",
              "0   His research and teaching focus on security s...     professor\n",
              "1   He is currently associated with Shri Datta Ho...       dentist\n",
              "2   Dr. Swarthout is an analytical environmental ...     professor\n",
              "3   His work has appeared in major U.S. and Europ...  photographer\n",
              "4   He was born in the year 1977 in Rajshahi, hea...  photographer"
            ]
          },
          "metadata": {
            "tags": []
          },
          "execution_count": 4
        }
      ]
    },
    {
      "cell_type": "code",
      "metadata": {
        "id": "KM4lRnRUfWJ3",
        "colab_type": "code",
        "outputId": "a096caa8-9ffd-4c37-bf35-0393e7730480",
        "colab": {
          "base_uri": "https://localhost:8080/",
          "height": 71
        }
      },
      "source": [
        "#Example of BIO\n",
        "print( train.at[0,'bio'])\n",
        "#Example of occupation\n",
        "print( train.at[0,'occupation'])"
      ],
      "execution_count": 12,
      "outputs": [
        {
          "output_type": "stream",
          "text": [
            " His research and teaching focus on security studies, international relations theory, international history and politics, and United States foreign policy. Taliaferro is the author of Balancing Risks: Great Power Intervention in the Periphery (Cornell University Press, 2004), which won the American Political Science Association’s Robert L. Jervis and Paul W. Schroeder Award for the Best Book in International History and Politics. His articles have appeared in International Security, Security Studies, and Political Psychology and several edited volumes. He is co-editor, along with Steven E. Lobell and Norrin P. Ripsman, of Neoclassical Realism, the State, and Foreign Policy (Cambridge University Press, 2009) and of The Challenge of Grand Strategy: The Great Powers and the Broken Balance between the World Wars (Cambridge University Press, 2012).\n",
            "professor\n"
          ],
          "name": "stdout"
        }
      ]
    },
    {
      "cell_type": "code",
      "metadata": {
        "id": "s6uRu8XEhRU8",
        "colab_type": "code",
        "colab": {}
      },
      "source": [
        "from sklearn.feature_extraction.text import CountVectorizer\n",
        "cv = CountVectorizer()"
      ],
      "execution_count": 0,
      "outputs": []
    },
    {
      "cell_type": "code",
      "metadata": {
        "id": "Cjk1UUMoSTsI",
        "colab_type": "code",
        "colab": {}
      },
      "source": [
        "train_bow = cv.fit_transform(train['bio'])\n",
        "from sklearn.feature_extraction.text import TfidfTransformer\n",
        "tfidf_transformer = TfidfTransformer().fit(train_bow)\n",
        "X = tfidf_transformer.transform(train_bow)\n",
        "\n",
        "#cv.get_feature_names()\n",
        "y = train['occupation']\n"
      ],
      "execution_count": 0,
      "outputs": []
    },
    {
      "cell_type": "code",
      "metadata": {
        "id": "t2VZ-CU6WuS0",
        "colab_type": "code",
        "outputId": "e0e86099-6f0b-4a63-bb42-030a347da853",
        "colab": {
          "base_uri": "https://localhost:8080/",
          "height": 34
        }
      },
      "source": [
        "test_bow = cv.transform(test['bio'])\n",
        "test_tf_id = tfidf_transformer.transform(test_bow)\n",
        "test_tf_id.shape"
      ],
      "execution_count": 15,
      "outputs": [
        {
          "output_type": "execute_result",
          "data": {
            "text/plain": [
              "(93492, 187353)"
            ]
          },
          "metadata": {
            "tags": []
          },
          "execution_count": 15
        }
      ]
    },
    {
      "cell_type": "code",
      "metadata": {
        "id": "gV64Zi18Xmqh",
        "colab_type": "code",
        "colab": {}
      },
      "source": [
        "from sklearn.naive_bayes import MultinomialNB\n",
        "clf = MultinomialNB().fit(X,y)"
      ],
      "execution_count": 0,
      "outputs": []
    },
    {
      "cell_type": "code",
      "metadata": {
        "id": "EmIa47l3YzHn",
        "colab_type": "code",
        "outputId": "09bcda7e-1776-450f-8c19-994890cc18ec",
        "colab": {
          "base_uri": "https://localhost:8080/",
          "height": 153
        }
      },
      "source": [
        "from sklearn.ensemble import RandomForestClassifier\n",
        "clf2 = RandomForestClassifier(max_depth=3, random_state=0)\n",
        "clf2.fit(X, y)"
      ],
      "execution_count": 18,
      "outputs": [
        {
          "output_type": "execute_result",
          "data": {
            "text/plain": [
              "RandomForestClassifier(bootstrap=True, ccp_alpha=0.0, class_weight=None,\n",
              "                       criterion='gini', max_depth=3, max_features='auto',\n",
              "                       max_leaf_nodes=None, max_samples=None,\n",
              "                       min_impurity_decrease=0.0, min_impurity_split=None,\n",
              "                       min_samples_leaf=1, min_samples_split=2,\n",
              "                       min_weight_fraction_leaf=0.0, n_estimators=100,\n",
              "                       n_jobs=None, oob_score=False, random_state=0, verbose=0,\n",
              "                       warm_start=False)"
            ]
          },
          "metadata": {
            "tags": []
          },
          "execution_count": 18
        }
      ]
    },
    {
      "cell_type": "code",
      "metadata": {
        "id": "ZJYPhkSWXyFs",
        "colab_type": "code",
        "colab": {}
      },
      "source": [
        "predictions = clf.predict(test_tf_id)\n",
        "predictions2 = clf2.predict(test_tf_id)"
      ],
      "execution_count": 0,
      "outputs": []
    },
    {
      "cell_type": "code",
      "metadata": {
        "id": "REs8eN_6YGnz",
        "colab_type": "code",
        "outputId": "1f25a084-565f-432f-ac4d-54b24313c0da",
        "colab": {
          "base_uri": "https://localhost:8080/",
          "height": 34
        }
      },
      "source": [
        "from sklearn.metrics import classification_report\n",
        "from sklearn import metrics\n",
        "#classification_report(test['occupation'], predictions2)\n",
        "#classification_report(test['occupation'], predictions,output_dict=True)\n",
        "metrics.accuracy_score(test['occupation'], predictions)"
      ],
      "execution_count": 24,
      "outputs": [
        {
          "output_type": "execute_result",
          "data": {
            "text/plain": [
              "0.552507166388568"
            ]
          },
          "metadata": {
            "tags": []
          },
          "execution_count": 24
        }
      ]
    },
    {
      "cell_type": "code",
      "metadata": {
        "id": "X6pFjo5vc6J-",
        "colab_type": "code",
        "colab": {}
      },
      "source": [
        "# Save - (for using in the lesson)\n",
        "pickle.dump(cv, open('count_vect.pkl', 'wb')) # count_vect is the CountVectorizer object\n",
        "pickle.dump(clf, open('model.pkl', 'wb')) #clf is the classifier that you trained"
      ],
      "execution_count": 0,
      "outputs": []
    },
    {
      "cell_type": "code",
      "metadata": {
        "id": "bDr2lwxFccoJ",
        "colab_type": "code",
        "colab": {
          "base_uri": "https://localhost:8080/",
          "height": 122
        },
        "outputId": "8b893575-096b-4ef7-bc75-9fda927991ea"
      },
      "source": [
        "from google.colab import drive\n",
        "drive.mount('/content/drive')"
      ],
      "execution_count": 26,
      "outputs": [
        {
          "output_type": "stream",
          "text": [
            "Go to this URL in a browser: https://accounts.google.com/o/oauth2/auth?client_id=947318989803-6bn6qk8qdgf4n4g3pfee6491hc0brc4i.apps.googleusercontent.com&redirect_uri=urn%3aietf%3awg%3aoauth%3a2.0%3aoob&response_type=code&scope=email%20https%3a%2f%2fwww.googleapis.com%2fauth%2fdocs.test%20https%3a%2f%2fwww.googleapis.com%2fauth%2fdrive%20https%3a%2f%2fwww.googleapis.com%2fauth%2fdrive.photos.readonly%20https%3a%2f%2fwww.googleapis.com%2fauth%2fpeopleapi.readonly\n",
            "\n",
            "Enter your authorization code:\n",
            "··········\n",
            "Mounted at /content/drive\n"
          ],
          "name": "stdout"
        }
      ]
    },
    {
      "cell_type": "code",
      "metadata": {
        "id": "bH9XdOrUbd60",
        "colab_type": "code",
        "colab": {}
      },
      "source": [
        ""
      ],
      "execution_count": 0,
      "outputs": []
    }
  ]
}